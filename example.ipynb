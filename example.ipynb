{
 "cells": [
  {
   "cell_type": "code",
   "execution_count": null,
   "metadata": {},
   "outputs": [],
   "source": [
    "import atreides\n",
    "\n",
    "model = atreides.train_model(\n",
    "    base_model=\"deepseek-ai/DeepSeek-R1-Distill-Qwen-1.5B\",\n",
    "    train_dataset=\"capitals/train\",\n",
    "    val_dataset=\"capitals/val\",\n",
    ")"
   ]
  },
  {
   "cell_type": "code",
   "execution_count": null,
   "metadata": {},
   "outputs": [
    {
     "name": "stdout",
     "output_type": "stream",
     "text": [
      "[]\n"
     ]
    }
   ],
   "source": [
    "from openai import AsyncOpenAI\n",
    "from prisma import Prisma\n",
    "\n",
    "client = AsyncOpenAI()\n",
    "prisma = Prisma()\n",
    "\n",
    "await prisma.connect()\n",
    "\n",
    "datasets = await prisma.dataset.find_many()\n",
    "\n",
    "print(datasets)"
   ]
  },
  {
   "cell_type": "code",
   "execution_count": 4,
   "metadata": {},
   "outputs": [
    {
     "data": {
      "text/plain": [
       "Dataset(id=1, name='capitals/train', prompts=None)"
      ]
     },
     "execution_count": 4,
     "metadata": {},
     "output_type": "execute_result"
    }
   ],
   "source": [
    "import json\n",
    "\n",
    "dataset = await prisma.dataset.create(\n",
    "    {\n",
    "        \"name\": \"capitals/train\",\n",
    "        \"prompts\": {\n",
    "            \"create\": [\n",
    "                {\n",
    "                    \"messages\": json.dumps(\n",
    "                        [{\"role\": \"user\", \"content\": \"What is the capital of France?\"}]\n",
    "                    ),\n",
    "                    \"metadata\": json.dumps({})\n",
    "                }\n",
    "            ]\n",
    "        },\n",
    "    }\n",
    ")\n",
    "dataset"
   ]
  },
  {
   "cell_type": "code",
   "execution_count": 8,
   "metadata": {},
   "outputs": [
    {
     "data": {
      "text/plain": [
       "Completion(id=1, prompt_id=1, prompt=None, model='gpt-4o', results='[{\"role\": \"assistant\", \"content\": \"Paris\"}]', rewards=[Reward(id=1, completion_id=1, completion=None, title='Accuracy', description='1.0 if the capital is correct, 0.0 otherwise', value=1.0, weight=1.0)])"
      ]
     },
     "execution_count": 8,
     "metadata": {},
     "output_type": "execute_result"
    }
   ],
   "source": [
    "completion = await prisma.completion.create(\n",
    "    {\n",
    "        \"prompt_id\": 1,\n",
    "        \"model\": \"gpt-4o\",\n",
    "        \"results\": json.dumps([{\"role\": \"assistant\", \"content\": \"Paris\"}]),\n",
    "    }\n",
    ")\n",
    "completion"
   ]
  },
  {
   "cell_type": "code",
   "execution_count": 7,
   "metadata": {},
   "outputs": [
    {
     "data": {
      "text/plain": [
       "[Prompt(id=1, messages='[{\"role\": \"user\", \"content\": \"What is the capital of France?\"}]', metadata='{}', datasets=None, completions=None)]"
      ]
     },
     "execution_count": 7,
     "metadata": {},
     "output_type": "execute_result"
    }
   ],
   "source": [
    "dataset = await prisma.dataset.find_first(include={\"prompts\": True})\n",
    "dataset.prompts"
   ]
  },
  {
   "cell_type": "code",
   "execution_count": 3,
   "metadata": {},
   "outputs": [],
   "source": [
    "import atreides\n",
    "\n",
    "try:\n",
    "    train_dataset = await atreides.get_dataset(\"capitals/train\")\n",
    "except atreides.NotFoundError:\n",
    "    train_dataset = await atreides.create_dataset(\n",
    "        name=\"capitals/train\",\n",
    "        tasks=[\n",
    "            {\n",
    "                \"messages\": [\n",
    "                    {\"role\": \"user\", \"content\": \"What is the capital of France?\"}\n",
    "                ],\n",
    "                \"pattern_rewards\": [\n",
    "                    {\n",
    "                        \"regex_pattern\": r\"The capital of France is (\\w+)\",\n",
    "                        \"expected_capture_groups\": [\"Paris\"],\n",
    "                    },\n",
    "                ],\n",
    "            },\n",
    "        ],\n",
    "    )\n",
    "\n",
    "try:\n",
    "    val_dataset = await atreides.get_dataset(\"capitals/val\")\n",
    "except atreides.NotFoundError:\n",
    "    val_dataset = await atreides.create_dataset(\n",
    "        name=\"capitals/val\",\n",
    "        tasks=[\n",
    "            {\n",
    "                \"messages\": [\n",
    "                    {\"role\": \"user\", \"content\": \"What is the capital of England?\"}\n",
    "                ],\n",
    "                \"pattern_rewards\": [\n",
    "                    {\n",
    "                        \"regex_pattern\": r\"The capital of England is (\\w+)\",\n",
    "                        \"expected_capture_groups\": [\"London\"],\n",
    "                    },\n",
    "                ],\n",
    "            },\n",
    "        ],\n",
    "    )"
   ]
  }
 ],
 "metadata": {
  "kernelspec": {
   "display_name": ".venv",
   "language": "python",
   "name": "python3"
  },
  "language_info": {
   "codemirror_mode": {
    "name": "ipython",
    "version": 3
   },
   "file_extension": ".py",
   "mimetype": "text/x-python",
   "name": "python",
   "nbconvert_exporter": "python",
   "pygments_lexer": "ipython3",
   "version": "3.12.5"
  }
 },
 "nbformat": 4,
 "nbformat_minor": 2
}
