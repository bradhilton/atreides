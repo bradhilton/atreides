{
 "cells": [
  {
   "cell_type": "code",
   "execution_count": 3,
   "metadata": {},
   "outputs": [],
   "source": [
    "import atreides\n",
    "\n",
    "train_dataset = await atreides.create_dataset(\n",
    "    name=\"capitals/train\",\n",
    "    tasks=[\n",
    "        {\n",
    "            \"messages\": [{\"role\": \"user\", \"content\": \"What is the capital of France?\"}],\n",
    "            \"pattern_rewards\": [\n",
    "                {\n",
    "                    \"regex_pattern\": r\"The capital of France is (\\w+)\",\n",
    "                    \"expected_capture_groups\": [\"Paris\"],\n",
    "                },\n",
    "            ],\n",
    "        },\n",
    "    ],\n",
    ")\n",
    "\n",
    "val_dataset = await atreides.create_dataset(\n",
    "    name=\"capitals/val\",\n",
    "    tasks=[\n",
    "        {\n",
    "            \"messages\": [\n",
    "                {\"role\": \"user\", \"content\": \"What is the capital of England?\"}\n",
    "            ],\n",
    "            \"pattern_rewards\": [\n",
    "                {\n",
    "                    \"regex_pattern\": r\"The capital of England is (\\w+)\",\n",
    "                    \"expected_capture_groups\": [\"London\"],\n",
    "                },\n",
    "            ],\n",
    "        },\n",
    "    ],\n",
    ")"
   ]
  }
 ],
 "metadata": {
  "kernelspec": {
   "display_name": ".venv",
   "language": "python",
   "name": "python3"
  },
  "language_info": {
   "codemirror_mode": {
    "name": "ipython",
    "version": 3
   },
   "file_extension": ".py",
   "mimetype": "text/x-python",
   "name": "python",
   "nbconvert_exporter": "python",
   "pygments_lexer": "ipython3",
   "version": "3.12.5"
  }
 },
 "nbformat": 4,
 "nbformat_minor": 2
}
